{
 "cells": [
  {
   "cell_type": "code",
   "execution_count": 60,
   "metadata": {},
   "outputs": [],
   "source": [
    "from PIL import Image\n",
    "from math import sin, cos, pi"
   ]
  },
  {
   "cell_type": "code",
   "execution_count": 32,
   "metadata": {},
   "outputs": [],
   "source": [
    "# l'annotation de l'image\n",
    "original_target_x = 1370 # le pied bas gauche\n",
    "original_target_y = 1065"
   ]
  },
  {
   "cell_type": "code",
   "execution_count": 33,
   "metadata": {},
   "outputs": [],
   "source": [
    "# les paramètres de la génération\n",
    "delta_x = 0\n",
    "delta_y = 0\n",
    "rotation_angle = 15"
   ]
  },
  {
   "cell_type": "code",
   "execution_count": 43,
   "metadata": {},
   "outputs": [],
   "source": [
    "# quelques paramètres fixés\n",
    "crop_size = 512\n",
    "crop_topleft_x = 1500 + delta_x - crop_size / 2\n",
    "crop_topleft_y = 1000 + delta_y - crop_size / 2\n",
    "final_size = 64"
   ]
  },
  {
   "cell_type": "code",
   "execution_count": 35,
   "metadata": {},
   "outputs": [
    {
     "name": "stdout",
     "output_type": "stream",
     "text": [
      "Taille avant rognage : (3000, 2000)\n"
     ]
    }
   ],
   "source": [
    "img = Image.open(\"img.jpg\")\n",
    "print \"Taille avant rognage :\",img.size"
   ]
  },
  {
   "cell_type": "markdown",
   "metadata": {},
   "source": [
    "![Image de test](img.jpg)"
   ]
  },
  {
   "cell_type": "code",
   "execution_count": 36,
   "metadata": {},
   "outputs": [],
   "source": [
    "img2 = img.rotate(rotation_angle)\n",
    "img2.save(\"img_rotate.jpg\")"
   ]
  },
  {
   "cell_type": "markdown",
   "metadata": {},
   "source": [
    "![Image de test rognée](img_rotate.jpg)"
   ]
  },
  {
   "cell_type": "code",
   "execution_count": 37,
   "metadata": {},
   "outputs": [
    {
     "name": "stdout",
     "output_type": "stream",
     "text": [
      "Taille après rognage : (1000, 1000)\n"
     ]
    }
   ],
   "source": [
    "img3 = img2.crop((1000, 500, 2000, 1500)) # param : x_haut_gauche, y_haut_gauche, x_bas_droite, y_bas_droite\n",
    "#img2.show()\n",
    "img3.save(\"img_crop.jpg\")\n",
    "print \"Taille après rognage :\",img3.size"
   ]
  },
  {
   "cell_type": "markdown",
   "metadata": {},
   "source": [
    "![Image de test rognée](img_crop.jpg)"
   ]
  },
  {
   "cell_type": "code",
   "execution_count": 38,
   "metadata": {},
   "outputs": [
    {
     "name": "stdout",
     "output_type": "stream",
     "text": [
      "Taille après resize : (64, 64)\n"
     ]
    }
   ],
   "source": [
    "img4 = img3.resize((final_size,final_size), Image.ANTIALIAS)\n",
    "img4.save(\"img_small.jpg\")\n",
    "print \"Taille après resize :\",img4.size"
   ]
  },
  {
   "cell_type": "markdown",
   "metadata": {},
   "source": [
    "![Image de test finale](img_small.jpg)"
   ]
  },
  {
   "cell_type": "code",
   "execution_count": 42,
   "metadata": {},
   "outputs": [
    {
     "name": "stdout",
     "output_type": "stream",
     "text": [
      "1261.25288051 1161.43165457\n",
      "17.2528805141 417.431654572\n",
      "Position finale : 2.15661006426 52.1789568215\n"
     ]
    }
   ],
   "source": [
    "## on peut calculer la position finale de target à partir des paramètres\n",
    "\n",
    "# calcul de la rotation\n",
    "center_x = img.size[0] / 2\n",
    "center_y = img.size[1] / 2\n",
    "angle_rad = -rotation_angle * pi / 180 # négatif car la base est dans le sens inverse\n",
    "target_x = (original_target_x - center_x) * cos(angle_rad) - (original_target_y - center_y) * sin(angle_rad) + original_target_x\n",
    "target_y = (original_target_x - center_x) * sin(angle_rad) + (original_target_y - center_y) * cos(angle_rad) + original_target_y\n",
    "\n",
    "print target_x,target_y\n",
    "\n",
    "# calcul du crop\n",
    "target_x = target_x - crop_topleft_x\n",
    "target_y = target_y - crop_topleft_y\n",
    "\n",
    "print target_x,target_y\n",
    "\n",
    "# calcul du resize\n",
    "target_x = target_x * final_size / crop_size\n",
    "target_y = target_y * final_size / crop_size\n",
    "\n",
    "print \"Position finale :\",target_x,target_y"
   ]
  },
  {
   "cell_type": "code",
   "execution_count": null,
   "metadata": {},
   "outputs": [],
   "source": []
  }
 ],
 "metadata": {
  "kernelspec": {
   "display_name": "Python 2",
   "language": "python",
   "name": "python2"
  },
  "language_info": {
   "codemirror_mode": {
    "name": "ipython",
    "version": 2
   },
   "file_extension": ".py",
   "mimetype": "text/x-python",
   "name": "python",
   "nbconvert_exporter": "python",
   "pygments_lexer": "ipython2",
   "version": "2.7.6"
  }
 },
 "nbformat": 4,
 "nbformat_minor": 2
}

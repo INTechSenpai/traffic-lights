{
 "cells": [
  {
   "cell_type": "code",
   "execution_count": 1,
   "metadata": {},
   "outputs": [],
   "source": [
    "from PIL import Image\n",
    "from math import sin, cos, pi"
   ]
  },
  {
   "cell_type": "code",
   "execution_count": 2,
   "metadata": {},
   "outputs": [],
   "source": [
    "# l'annotation de l'image\n",
    "original_target_x = 1375 # le pied bas gauche\n",
    "original_target_y = 1065"
   ]
  },
  {
   "cell_type": "code",
   "execution_count": 3,
   "metadata": {},
   "outputs": [],
   "source": [
    "# les paramètres de la génération\n",
    "delta_x = 60\n",
    "delta_y = 20\n",
    "rotation_angle = 15"
   ]
  },
  {
   "cell_type": "code",
   "execution_count": 4,
   "metadata": {},
   "outputs": [
    {
     "name": "stdout",
     "output_type": "stream",
     "text": [
      "Taille avant rognage : (3000, 2000)\n"
     ]
    }
   ],
   "source": [
    "img = Image.open(\"img.jpg\")\n",
    "print \"Taille avant rognage :\",img.size"
   ]
  },
  {
   "cell_type": "code",
   "execution_count": 5,
   "metadata": {},
   "outputs": [],
   "source": [
    "# quelques paramètres fixés\n",
    "crop_size = 512\n",
    "rotation_center_x = img.size[0] / 2\n",
    "rotation_center_y = img.size[1] / 2\n",
    "crop_topleft_x = rotation_center_x + delta_x - crop_size / 2\n",
    "crop_topleft_y = rotation_center_y + delta_y - crop_size / 2\n",
    "final_size = 64"
   ]
  },
  {
   "cell_type": "markdown",
   "metadata": {},
   "source": [
    "![Image de test](img.jpg)"
   ]
  },
  {
   "cell_type": "code",
   "execution_count": 6,
   "metadata": {},
   "outputs": [],
   "source": [
    "img.crop((original_target_x - 20, original_target_y - 20, original_target_x + 20, original_target_y + 20)).save(\"img_cible.jpg\")"
   ]
  },
  {
   "cell_type": "markdown",
   "metadata": {},
   "source": [
    "![Point cible](img_cible.jpg)"
   ]
  },
  {
   "cell_type": "code",
   "execution_count": 7,
   "metadata": {},
   "outputs": [
    {
     "name": "stdout",
     "output_type": "stream",
     "text": [
      "Taille après rotation : (3000, 2000)\n"
     ]
    }
   ],
   "source": [
    "img2 = img.rotate(rotation_angle)\n",
    "img2.save(\"img_rotate.jpg\")\n",
    "print \"Taille après rotation :\",img2.size"
   ]
  },
  {
   "cell_type": "markdown",
   "metadata": {},
   "source": [
    "![Image de test rognée](img_rotate.jpg)"
   ]
  },
  {
   "cell_type": "code",
   "execution_count": 8,
   "metadata": {},
   "outputs": [
    {
     "name": "stdout",
     "output_type": "stream",
     "text": [
      "Taille après rognage : (512, 512)\n"
     ]
    }
   ],
   "source": [
    "img3 = img2.crop((crop_topleft_x, crop_topleft_y, crop_topleft_x + crop_size, crop_topleft_y + crop_size)) # param : x_haut_gauche, y_haut_gauche, x_bas_droite, y_bas_droite\n",
    "#img2.show()\n",
    "img3.save(\"img_crop.jpg\")\n",
    "print \"Taille après rognage :\",img3.size"
   ]
  },
  {
   "cell_type": "markdown",
   "metadata": {},
   "source": [
    "![Image de test rognée](img_crop.jpg)"
   ]
  },
  {
   "cell_type": "code",
   "execution_count": 9,
   "metadata": {},
   "outputs": [
    {
     "name": "stdout",
     "output_type": "stream",
     "text": [
      "Position initiale : 1375 1065\n",
      "Après rotation : -103.917490354 95.1375593466\n",
      "Après crop : 92 331\n"
     ]
    }
   ],
   "source": [
    "\n",
    "print \"Position initiale :\",original_target_x,original_target_y\n",
    "\n",
    "# calcul de la rotation\n",
    "angle_rad = -rotation_angle * pi / 180 # négatif car la base est dans le sens inverse\n",
    "target_x = (original_target_x - rotation_center_x) * cos(angle_rad) - (original_target_y - rotation_center_y) * sin(angle_rad)\n",
    "target_y = (original_target_x - rotation_center_x) * sin(angle_rad) + (original_target_y - rotation_center_y) * cos(angle_rad)\n",
    "\n",
    "print \"Après rotation :\",target_x,target_y\n",
    "\n",
    "# calcul du crop\n",
    "target_x = int(round(target_x - delta_x + crop_size / 2))\n",
    "target_y = int(round(target_y - delta_y + crop_size / 2))\n",
    "\n",
    "print \"Après crop :\",target_x,target_y\n"
   ]
  },
  {
   "cell_type": "code",
   "execution_count": 10,
   "metadata": {},
   "outputs": [],
   "source": [
    "img3.crop((target_x - 20, target_y - 20, target_x + 20, target_y + 20)).save(\"img_cible3.jpg\")"
   ]
  },
  {
   "cell_type": "markdown",
   "metadata": {},
   "source": [
    "![Image de test finale](img_cible3.jpg)"
   ]
  },
  {
   "cell_type": "code",
   "execution_count": 11,
   "metadata": {},
   "outputs": [
    {
     "name": "stdout",
     "output_type": "stream",
     "text": [
      "Taille après resize : (64, 64)\n"
     ]
    }
   ],
   "source": [
    "img4 = img3.resize((final_size,final_size), Image.ANTIALIAS)\n",
    "img4.save(\"img_small.jpg\")\n",
    "print \"Taille après resize :\",img4.size"
   ]
  },
  {
   "cell_type": "markdown",
   "metadata": {},
   "source": [
    "![Image de test finale](img_small.jpg)"
   ]
  },
  {
   "cell_type": "code",
   "execution_count": 12,
   "metadata": {},
   "outputs": [
    {
     "name": "stdout",
     "output_type": "stream",
     "text": [
      "Position finale : 11 41\n"
     ]
    }
   ],
   "source": [
    "## on peut calculer la position finale de target à partir des paramètres\n",
    "\n",
    "# calcul du resize\n",
    "target_x = int(round(target_x * final_size / crop_size))\n",
    "target_y = int(round(target_y * final_size / crop_size))\n",
    "\n",
    "print \"Position finale :\",target_x,target_y"
   ]
  },
  {
   "cell_type": "code",
   "execution_count": 13,
   "metadata": {},
   "outputs": [],
   "source": [
    "img4.crop((target_x - 5, target_y - 5, target_x + 5, target_y + 5)).resize((40,40)).save(\"img_cible4.jpg\")"
   ]
  },
  {
   "cell_type": "markdown",
   "metadata": {},
   "source": [
    "![Point cible sur image finale](img_cible4.jpg)"
   ]
  }
 ],
 "metadata": {
  "kernelspec": {
   "display_name": "Python 2",
   "language": "python",
   "name": "python2"
  },
  "language_info": {
   "codemirror_mode": {
    "name": "ipython",
    "version": 2
   },
   "file_extension": ".py",
   "mimetype": "text/x-python",
   "name": "python",
   "nbconvert_exporter": "python",
   "pygments_lexer": "ipython2",
   "version": "2.7.12"
  }
 },
 "nbformat": 4,
 "nbformat_minor": 2
}
